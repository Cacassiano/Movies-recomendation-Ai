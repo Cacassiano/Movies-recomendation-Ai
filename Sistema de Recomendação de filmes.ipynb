{
 "cells": [
  {
   "cell_type": "markdown",
   "metadata": {},
   "source": [
    "5. Sistema de Recomendação de Filmes\n",
    "📌 Descrição: Criar um recomendador de filmes baseado em similaridade de usuários ou conteúdo.\n",
    "🛠 Ferramentas: Python, Pandas, Scikit-learn.\n",
    "🎯 Habilidades: Sistemas de recomendação, filtragem colaborativa."
   ]
  },
  {
   "cell_type": "code",
   "execution_count": null,
   "metadata": {},
   "outputs": [],
   "source": [
    "import pandas as pd\n",
    "\n",
    "tabela = pd.read_csv(\"./data_bases/base filmes.csv\")\n",
    "display(tabela)"
   ]
  }
 ],
 "metadata": {
  "kernelspec": {
   "display_name": "venv",
   "language": "python",
   "name": "python3"
  },
  "language_info": {
   "name": "python",
   "version": "3.12.6"
  }
 },
 "nbformat": 4,
 "nbformat_minor": 2
}
